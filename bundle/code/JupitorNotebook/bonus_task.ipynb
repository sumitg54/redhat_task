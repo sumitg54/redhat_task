{
 "cells": [
  {
   "cell_type": "code",
   "execution_count": 216,
   "id": "4f7fa3a4",
   "metadata": {},
   "outputs": [],
   "source": [
    "#import required Library\n",
    "import random\n",
    "import requests\n",
    "import mysql.connector\n",
    "import json\n",
    "import webbrowser"
   ]
  },
  {
   "cell_type": "code",
   "execution_count": 220,
   "id": "e3f32604",
   "metadata": {},
   "outputs": [
    {
     "name": "stdout",
     "output_type": "stream",
     "text": [
      "Would you like to read comics? yes\n",
      "Please provide a number/Title 5\n",
      "Check the Browser\n"
     ]
    },
    {
     "data": {
      "text/plain": [
       "True"
      ]
     },
     "execution_count": 220,
     "metadata": {},
     "output_type": "execute_result"
    }
   ],
   "source": [
    "#MySql - Making Connection\n",
    "mydb = mysql.connector.connect(\n",
    "  host=\"localhost\",\n",
    "  user=\"root\",\n",
    "  password=\"pass@123\"\n",
    ")\n",
    "\n",
    "#create cursor object\n",
    "mycursor = mydb.cursor()\n",
    "\n",
    "INPUT = input(\"Would you like to read comics? \")\n",
    "if INPUT.lower() == (\"yes\"):\n",
    "    INPUT1 = input(\"Please provide a number/Title \")\n",
    "    if INPUT1.isdigit():\n",
    "        where_clasue=\"where number={0}\".format(INPUT1);\n",
    "    else:\n",
    "        where_clasue=\"where comic_name='{0}'\".format(INPUT1);\n",
    "\n",
    "    #select data using query\n",
    "    sql=\"SELECT imageLink FROM mydatabase.comic1 {0}\".format(where_clasue)\n",
    "    mycursor.execute(sql)\n",
    "    output = mycursor.fetchone()    \n",
    "    if(mycursor.rowcount != 0):\n",
    "        print(\"Check the Browser\")\n",
    "        webbrowser.open(output[0])    \n",
    "    else:\n",
    "        print(\"Invalid Input\")\n",
    "        \n",
    "elif INPUT.lower() == (\"no\"):\n",
    "    #print (\"try again\")\n",
    "    exit\n",
    "else: \n",
    "    print(\"Please enter yes or no.\")\n",
    "\n",
    "#terminate connection\n",
    "mycursor.close()"
   ]
  },
  {
   "cell_type": "code",
   "execution_count": null,
   "id": "342635b8",
   "metadata": {},
   "outputs": [],
   "source": []
  }
 ],
 "metadata": {
  "kernelspec": {
   "display_name": "Python 3",
   "language": "python",
   "name": "python3"
  },
  "language_info": {
   "codemirror_mode": {
    "name": "ipython",
    "version": 3
   },
   "file_extension": ".py",
   "mimetype": "text/x-python",
   "name": "python",
   "nbconvert_exporter": "python",
   "pygments_lexer": "ipython3",
   "version": "3.8.8"
  }
 },
 "nbformat": 4,
 "nbformat_minor": 5
}
